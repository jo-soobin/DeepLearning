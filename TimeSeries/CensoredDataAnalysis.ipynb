{
 "cells": [
  {
   "cell_type": "code",
   "execution_count": 1,
   "id": "e24ee889",
   "metadata": {},
   "outputs": [],
   "source": [
    "import statsmodels.api as sm\n",
    "import seaborn as sns\n",
    "import pandas as pd\n",
    "import numpy as np\n",
    "\n",
    "import tableone\n",
    "import scipy"
   ]
  },
  {
   "cell_type": "code",
   "execution_count": 2,
   "id": "c22bb6c1",
   "metadata": {},
   "outputs": [
    {
     "name": "stdout",
     "output_type": "stream",
     "text": [
      "(490, 27)\n",
      "<class 'pandas.core.frame.DataFrame'>\n",
      "RangeIndex: 490 entries, 0 to 489\n",
      "Data columns (total 27 columns):\n",
      " #   Column      Non-Null Count  Dtype  \n",
      "---  ------      --------------  -----  \n",
      " 0   PatientID   490 non-null    int64  \n",
      " 1   Age         490 non-null    int64  \n",
      " 2   Sex         490 non-null    int64  \n",
      " 3   Smoke       490 non-null    int64  \n",
      " 4   COPD        490 non-null    int64  \n",
      " 5   DM          490 non-null    int64  \n",
      " 6   HTN         490 non-null    int64  \n",
      " 7   CEA_pre     453 non-null    float64\n",
      " 8   SUV         414 non-null    float64\n",
      " 9   Extent      490 non-null    int64  \n",
      " 10  Vascular    490 non-null    int64  \n",
      " 11  Lymphatic   490 non-null    int64  \n",
      " 12  Perineural  490 non-null    int64  \n",
      " 13  VPI         490 non-null    int64  \n",
      " 14  Adjacent    490 non-null    int64  \n",
      " 15  Aerogenous  490 non-null    int64  \n",
      " 16  pT          490 non-null    int64  \n",
      " 17  pN          490 non-null    int64  \n",
      " 18  pStage      490 non-null    int64  \n",
      " 19  cell        490 non-null    int64  \n",
      " 20  Subtype     490 non-null    int64  \n",
      " 21  CEA_Post    461 non-null    float64\n",
      " 22  Relapse     490 non-null    int64  \n",
      " 23  Recur       490 non-null    int64  \n",
      " 24  Recurrence  490 non-null    float64\n",
      " 25  Death       490 non-null    int64  \n",
      " 26  Overall     490 non-null    float64\n",
      "dtypes: float64(5), int64(22)\n",
      "memory usage: 103.5 KB\n"
     ]
    }
   ],
   "source": [
    "Data = pd.read_csv(\"12.Censored_clinical_lungCancer_survival.csv\")\n",
    "print(Data.shape)\n",
    "Data.info()"
   ]
  },
  {
   "cell_type": "code",
   "execution_count": 3,
   "id": "98ac935e",
   "metadata": {},
   "outputs": [],
   "source": [
    "columns = ['Age', 'Sex', 'Smoke', 'COPD', 'DM', 'HTN', 'CEA_pre', 'CEA_Post', 'pStage', 'Relapse']"
   ]
  },
  {
   "cell_type": "code",
   "execution_count": 4,
   "id": "e83b4a82",
   "metadata": {},
   "outputs": [],
   "source": [
    "groupby = ['Smoke']\n",
    "nonnormal = ['Age', 'CEA_pre', 'CEA_Post']\n",
    "categorical = ['Sex', 'COPD', 'DM', 'HTN', 'pStage', 'Relapse']"
   ]
  },
  {
   "cell_type": "code",
   "execution_count": 5,
   "id": "e56e8397",
   "metadata": {
    "scrolled": true
   },
   "outputs": [
    {
     "data": {
      "text/plain": [
       "4    180\n",
       "5    172\n",
       "2     75\n",
       "6     40\n",
       "3     23\n",
       "Name: pStage, dtype: int64"
      ]
     },
     "execution_count": 5,
     "metadata": {},
     "output_type": "execute_result"
    }
   ],
   "source": [
    "Data['pStage'].value_counts()"
   ]
  },
  {
   "cell_type": "code",
   "execution_count": 6,
   "id": "03a36ebd",
   "metadata": {},
   "outputs": [],
   "source": [
    "mytable = tableone.TableOne(Data,\n",
    "                   columns=columns,\n",
    "                   categorical=categorical,\n",
    "                   nonnormal=nonnormal,\n",
    "                   groupby=groupby,\n",
    "                   pval=True)"
   ]
  },
  {
   "cell_type": "code",
   "execution_count": 7,
   "id": "1635e953",
   "metadata": {},
   "outputs": [
    {
     "name": "stdout",
     "output_type": "stream",
     "text": [
      "                              Missing    Overall           1                 2                 P-Value\n",
      "------------------------  --  ---------  ----------------  ----------------  ----------------  ---------\n",
      "n                                        490               205               285\n",
      "Age, median [Q1,Q3]           0          64.0 [57.0,70.0]  62.0 [54.0,70.0]  65.0 [58.0,70.0]  0.010\n",
      "Sex, n (%)                1   0          304 (62.0)        30 (14.6)         274 (96.1)        <0.001\n",
      "                          2              186 (38.0)        175 (85.4)        11 (3.9)\n",
      "COPD, n (%)               0   0          476 (97.1)        203 (99.0)        273 (95.8)        0.065\n",
      "                          1              14 (2.9)          2 (1.0)           12 (4.2)\n",
      "DM, n (%)                 0   0          385 (78.6)        172 (83.9)        213 (74.7)        0.020\n",
      "                          1              105 (21.4)        33 (16.1)         72 (25.3)\n",
      "HTN, n (%)                0   0          299 (61.0)        125 (61.0)        174 (61.1)        1.000\n",
      "                          1              191 (39.0)        80 (39.0)         111 (38.9)\n",
      "CEA_pre, median [Q1,Q3]       37         2.4 [1.4,4.7]     2.1 [1.2,4.0]     2.8 [1.6,4.9]     0.006\n",
      "CEA_Post, median [Q1,Q3]      29         2.2 [1.3,4.1]     2.0 [1.2,3.9]     2.4 [1.5,4.2]     0.024\n",
      "pStage, n (%)             2   0          75 (15.3)         42 (20.5)         33 (11.6)         0.099\n",
      "                          3              23 (4.7)          10 (4.9)          13 (4.6)\n",
      "                          4              180 (36.7)        68 (33.2)         112 (39.3)\n",
      "                          5              172 (35.1)        68 (33.2)         104 (36.5)\n",
      "                          6              40 (8.2)          17 (8.3)          23 (8.1)\n",
      "Relapse, n (%)            0   0          287 (58.6)        106 (51.7)        181 (63.5)        0.012\n",
      "                          1              203 (41.4)        99 (48.3)         104 (36.5)\n"
     ]
    }
   ],
   "source": [
    "print(mytable.tabulate(tablefmt = \"f\"))"
   ]
  },
  {
   "cell_type": "code",
   "execution_count": 8,
   "id": "938ff79f",
   "metadata": {},
   "outputs": [
    {
     "data": {
      "text/plain": [
       "ShapiroResult(statistic=0.9573119282722473, pvalue=0.7698087692260742)"
      ]
     },
     "execution_count": 8,
     "metadata": {},
     "output_type": "execute_result"
    }
   ],
   "source": [
    "scipy.stats.shapiro([5,5.4, 5.3, 5.2, 5.8, 5.6, 5.8, 6.3, 4.2])"
   ]
  },
  {
   "cell_type": "code",
   "execution_count": 9,
   "id": "d06ea178",
   "metadata": {},
   "outputs": [
    {
     "data": {
      "text/plain": [
       "<seaborn.axisgrid.FacetGrid at 0x219f96f2ad0>"
      ]
     },
     "execution_count": 9,
     "metadata": {},
     "output_type": "execute_result"
    },
    {
     "data": {
      "image/png": "[encoded data removed]",
      "text/plain": [
       "<Figure size 360x360 with 1 Axes>"
      ]
     },
     "metadata": {
      "needs_background": "light"
     },
     "output_type": "display_data"
    }
   ],
   "source": [
    "#kde: kernel density estimation\n",
    "sns.displot(Data, x=\"Age\", kind=\"kde\")"
   ]
  },
  {
   "cell_type": "code",
   "execution_count": 10,
   "id": "f201952a",
   "metadata": {},
   "outputs": [
    {
     "data": {
      "text/plain": [
       "Ttest_indResult(statistic=-3.1283943499987004, pvalue=0.0018627455613594202)"
      ]
     },
     "execution_count": 10,
     "metadata": {},
     "output_type": "execute_result"
    }
   ],
   "source": [
    "scipy.stats.ttest_ind(\n",
    "    Data[Data['Smoke'] == 1]['Age'],\n",
    "    Data[Data['Smoke'] == 2]['Age']\n",
    ")"
   ]
  },
  {
   "cell_type": "code",
   "execution_count": 11,
   "id": "fcf2d315",
   "metadata": {},
   "outputs": [
    {
     "data": {
      "text/plain": [
       "MannwhitneyuResult(statistic=25253.0, pvalue=0.010400512446192547)"
      ]
     },
     "execution_count": 11,
     "metadata": {},
     "output_type": "execute_result"
    }
   ],
   "source": [
    "scipy.stats.mannwhitneyu(\n",
    "    Data[Data['Smoke'] == 1]['Age'],\n",
    "    Data[Data['Smoke'] == 2]['Age']\n",
    ")"
   ]
  },
  {
   "cell_type": "markdown",
   "id": "aa89973b",
   "metadata": {},
   "source": [
    "Logistic Regression task (Table 2)"
   ]
  },
  {
   "cell_type": "code",
   "execution_count": 12,
   "id": "8339e287",
   "metadata": {},
   "outputs": [],
   "source": [
    "groupby = ['Smoke']\n",
    "label = ['Relapse']\n",
    "nonnormal = ['Age', 'CEA_pre', 'CEA_Post']\n",
    "categorical = ['Sex', 'COPD', 'DM', 'HTN', 'pStage']"
   ]
  },
  {
   "cell_type": "code",
   "execution_count": 13,
   "id": "bfcc8668",
   "metadata": {},
   "outputs": [
    {
     "data": {
      "text/html": [
       "<div>\n",
       "<style scoped>\n",
       "    .dataframe tbody tr th:only-of-type {\n",
       "        vertical-align: middle;\n",
       "    }\n",
       "\n",
       "    .dataframe tbody tr th {\n",
       "        vertical-align: top;\n",
       "    }\n",
       "\n",
       "    .dataframe thead th {\n",
       "        text-align: right;\n",
       "    }\n",
       "</style>\n",
       "<table border=\"1\" class=\"dataframe\">\n",
       "  <thead>\n",
       "    <tr style=\"text-align: right;\">\n",
       "      <th></th>\n",
       "      <th>Sex_2</th>\n",
       "      <th>COPD_1</th>\n",
       "      <th>DM_1</th>\n",
       "      <th>HTN_1</th>\n",
       "      <th>pStage_3</th>\n",
       "      <th>pStage_4</th>\n",
       "      <th>pStage_5</th>\n",
       "      <th>pStage_6</th>\n",
       "    </tr>\n",
       "  </thead>\n",
       "  <tbody>\n",
       "    <tr>\n",
       "      <th>0</th>\n",
       "      <td>1</td>\n",
       "      <td>0</td>\n",
       "      <td>0</td>\n",
       "      <td>1</td>\n",
       "      <td>0</td>\n",
       "      <td>1</td>\n",
       "      <td>0</td>\n",
       "      <td>0</td>\n",
       "    </tr>\n",
       "    <tr>\n",
       "      <th>1</th>\n",
       "      <td>0</td>\n",
       "      <td>0</td>\n",
       "      <td>0</td>\n",
       "      <td>0</td>\n",
       "      <td>0</td>\n",
       "      <td>1</td>\n",
       "      <td>0</td>\n",
       "      <td>0</td>\n",
       "    </tr>\n",
       "    <tr>\n",
       "      <th>2</th>\n",
       "      <td>0</td>\n",
       "      <td>0</td>\n",
       "      <td>0</td>\n",
       "      <td>0</td>\n",
       "      <td>0</td>\n",
       "      <td>1</td>\n",
       "      <td>0</td>\n",
       "      <td>0</td>\n",
       "    </tr>\n",
       "    <tr>\n",
       "      <th>3</th>\n",
       "      <td>1</td>\n",
       "      <td>0</td>\n",
       "      <td>1</td>\n",
       "      <td>1</td>\n",
       "      <td>0</td>\n",
       "      <td>1</td>\n",
       "      <td>0</td>\n",
       "      <td>0</td>\n",
       "    </tr>\n",
       "    <tr>\n",
       "      <th>4</th>\n",
       "      <td>0</td>\n",
       "      <td>0</td>\n",
       "      <td>0</td>\n",
       "      <td>0</td>\n",
       "      <td>0</td>\n",
       "      <td>0</td>\n",
       "      <td>1</td>\n",
       "      <td>0</td>\n",
       "    </tr>\n",
       "    <tr>\n",
       "      <th>...</th>\n",
       "      <td>...</td>\n",
       "      <td>...</td>\n",
       "      <td>...</td>\n",
       "      <td>...</td>\n",
       "      <td>...</td>\n",
       "      <td>...</td>\n",
       "      <td>...</td>\n",
       "      <td>...</td>\n",
       "    </tr>\n",
       "    <tr>\n",
       "      <th>485</th>\n",
       "      <td>1</td>\n",
       "      <td>0</td>\n",
       "      <td>0</td>\n",
       "      <td>0</td>\n",
       "      <td>0</td>\n",
       "      <td>1</td>\n",
       "      <td>0</td>\n",
       "      <td>0</td>\n",
       "    </tr>\n",
       "    <tr>\n",
       "      <th>486</th>\n",
       "      <td>0</td>\n",
       "      <td>0</td>\n",
       "      <td>1</td>\n",
       "      <td>1</td>\n",
       "      <td>0</td>\n",
       "      <td>1</td>\n",
       "      <td>0</td>\n",
       "      <td>0</td>\n",
       "    </tr>\n",
       "    <tr>\n",
       "      <th>487</th>\n",
       "      <td>0</td>\n",
       "      <td>0</td>\n",
       "      <td>1</td>\n",
       "      <td>1</td>\n",
       "      <td>0</td>\n",
       "      <td>0</td>\n",
       "      <td>1</td>\n",
       "      <td>0</td>\n",
       "    </tr>\n",
       "    <tr>\n",
       "      <th>488</th>\n",
       "      <td>0</td>\n",
       "      <td>0</td>\n",
       "      <td>1</td>\n",
       "      <td>1</td>\n",
       "      <td>0</td>\n",
       "      <td>1</td>\n",
       "      <td>0</td>\n",
       "      <td>0</td>\n",
       "    </tr>\n",
       "    <tr>\n",
       "      <th>489</th>\n",
       "      <td>1</td>\n",
       "      <td>0</td>\n",
       "      <td>0</td>\n",
       "      <td>0</td>\n",
       "      <td>0</td>\n",
       "      <td>1</td>\n",
       "      <td>0</td>\n",
       "      <td>0</td>\n",
       "    </tr>\n",
       "  </tbody>\n",
       "</table>\n",
       "<p>490 rows × 8 columns</p>\n",
       "</div>"
      ],
      "text/plain": [
       "     Sex_2  COPD_1  DM_1  HTN_1  pStage_3  pStage_4  pStage_5  pStage_6\n",
       "0        1       0     0      1         0         1         0         0\n",
       "1        0       0     0      0         0         1         0         0\n",
       "2        0       0     0      0         0         1         0         0\n",
       "3        1       0     1      1         0         1         0         0\n",
       "4        0       0     0      0         0         0         1         0\n",
       "..     ...     ...   ...    ...       ...       ...       ...       ...\n",
       "485      1       0     0      0         0         1         0         0\n",
       "486      0       0     1      1         0         1         0         0\n",
       "487      0       0     1      1         0         0         1         0\n",
       "488      0       0     1      1         0         1         0         0\n",
       "489      1       0     0      0         0         1         0         0\n",
       "\n",
       "[490 rows x 8 columns]"
      ]
     },
     "execution_count": 13,
     "metadata": {},
     "output_type": "execute_result"
    }
   ],
   "source": [
    "pd.get_dummies(Data[categorical].astype('str'), drop_first=True)"
   ]
  },
  {
   "cell_type": "code",
   "execution_count": 14,
   "id": "d9c1597c",
   "metadata": {},
   "outputs": [
    {
     "data": {
      "text/html": [
       "<div>\n",
       "<style scoped>\n",
       "    .dataframe tbody tr th:only-of-type {\n",
       "        vertical-align: middle;\n",
       "    }\n",
       "\n",
       "    .dataframe tbody tr th {\n",
       "        vertical-align: top;\n",
       "    }\n",
       "\n",
       "    .dataframe thead th {\n",
       "        text-align: right;\n",
       "    }\n",
       "</style>\n",
       "<table border=\"1\" class=\"dataframe\">\n",
       "  <thead>\n",
       "    <tr style=\"text-align: right;\">\n",
       "      <th></th>\n",
       "      <th>Relapse</th>\n",
       "      <th>Age</th>\n",
       "      <th>CEA_pre</th>\n",
       "      <th>CEA_Post</th>\n",
       "      <th>Sex_2</th>\n",
       "      <th>COPD_1</th>\n",
       "      <th>DM_1</th>\n",
       "      <th>HTN_1</th>\n",
       "      <th>pStage_3</th>\n",
       "      <th>pStage_4</th>\n",
       "      <th>pStage_5</th>\n",
       "      <th>pStage_6</th>\n",
       "    </tr>\n",
       "  </thead>\n",
       "  <tbody>\n",
       "    <tr>\n",
       "      <th>0</th>\n",
       "      <td>0</td>\n",
       "      <td>73</td>\n",
       "      <td>1.0</td>\n",
       "      <td>0.0</td>\n",
       "      <td>1</td>\n",
       "      <td>0</td>\n",
       "      <td>0</td>\n",
       "      <td>1</td>\n",
       "      <td>0</td>\n",
       "      <td>1</td>\n",
       "      <td>0</td>\n",
       "      <td>0</td>\n",
       "    </tr>\n",
       "    <tr>\n",
       "      <th>1</th>\n",
       "      <td>0</td>\n",
       "      <td>73</td>\n",
       "      <td>1.4</td>\n",
       "      <td>1.2</td>\n",
       "      <td>0</td>\n",
       "      <td>0</td>\n",
       "      <td>0</td>\n",
       "      <td>0</td>\n",
       "      <td>0</td>\n",
       "      <td>1</td>\n",
       "      <td>0</td>\n",
       "      <td>0</td>\n",
       "    </tr>\n",
       "    <tr>\n",
       "      <th>2</th>\n",
       "      <td>1</td>\n",
       "      <td>53</td>\n",
       "      <td>1.7</td>\n",
       "      <td>1.8</td>\n",
       "      <td>0</td>\n",
       "      <td>0</td>\n",
       "      <td>0</td>\n",
       "      <td>0</td>\n",
       "      <td>0</td>\n",
       "      <td>1</td>\n",
       "      <td>0</td>\n",
       "      <td>0</td>\n",
       "    </tr>\n",
       "    <tr>\n",
       "      <th>3</th>\n",
       "      <td>0</td>\n",
       "      <td>57</td>\n",
       "      <td>1.0</td>\n",
       "      <td>0.0</td>\n",
       "      <td>1</td>\n",
       "      <td>0</td>\n",
       "      <td>1</td>\n",
       "      <td>1</td>\n",
       "      <td>0</td>\n",
       "      <td>1</td>\n",
       "      <td>0</td>\n",
       "      <td>0</td>\n",
       "    </tr>\n",
       "    <tr>\n",
       "      <th>4</th>\n",
       "      <td>0</td>\n",
       "      <td>42</td>\n",
       "      <td>1.0</td>\n",
       "      <td>1.2</td>\n",
       "      <td>0</td>\n",
       "      <td>0</td>\n",
       "      <td>0</td>\n",
       "      <td>0</td>\n",
       "      <td>0</td>\n",
       "      <td>0</td>\n",
       "      <td>1</td>\n",
       "      <td>0</td>\n",
       "    </tr>\n",
       "  </tbody>\n",
       "</table>\n",
       "</div>"
      ],
      "text/plain": [
       "   Relapse  Age  CEA_pre  CEA_Post  Sex_2  COPD_1  DM_1  HTN_1  pStage_3  \\\n",
       "0        0   73      1.0       0.0      1       0     0      1         0   \n",
       "1        0   73      1.4       1.2      0       0     0      0         0   \n",
       "2        1   53      1.7       1.8      0       0     0      0         0   \n",
       "3        0   57      1.0       0.0      1       0     1      1         0   \n",
       "4        0   42      1.0       1.2      0       0     0      0         0   \n",
       "\n",
       "   pStage_4  pStage_5  pStage_6  \n",
       "0         1         0         0  \n",
       "1         1         0         0  \n",
       "2         1         0         0  \n",
       "3         1         0         0  \n",
       "4         0         1         0  "
      ]
     },
     "execution_count": 14,
     "metadata": {},
     "output_type": "execute_result"
    }
   ],
   "source": [
    "DummyData = pd.concat(\n",
    "    [\n",
    "        Data['Relapse'],\n",
    "        Data[nonnormal],\n",
    "        pd.get_dummies(Data[categorical].astype('str'), drop_first=True)\n",
    "    ],axis=1)\n",
    "DummyData.head()"
   ]
  },
  {
   "cell_type": "code",
   "execution_count": 15,
   "id": "ef7d04b6",
   "metadata": {},
   "outputs": [],
   "source": [
    "DummyData = DummyData.dropna()"
   ]
  },
  {
   "cell_type": "code",
   "execution_count": 16,
   "id": "baf1d0b9",
   "metadata": {},
   "outputs": [
    {
     "data": {
      "text/html": [
       "<div>\n",
       "<style scoped>\n",
       "    .dataframe tbody tr th:only-of-type {\n",
       "        vertical-align: middle;\n",
       "    }\n",
       "\n",
       "    .dataframe tbody tr th {\n",
       "        vertical-align: top;\n",
       "    }\n",
       "\n",
       "    .dataframe thead th {\n",
       "        text-align: right;\n",
       "    }\n",
       "</style>\n",
       "<table border=\"1\" class=\"dataframe\">\n",
       "  <thead>\n",
       "    <tr style=\"text-align: right;\">\n",
       "      <th></th>\n",
       "      <th>Relapse</th>\n",
       "      <th>Age</th>\n",
       "      <th>CEA_pre</th>\n",
       "      <th>CEA_Post</th>\n",
       "      <th>Sex_2</th>\n",
       "      <th>COPD_1</th>\n",
       "      <th>DM_1</th>\n",
       "      <th>HTN_1</th>\n",
       "      <th>pStage_3</th>\n",
       "      <th>pStage_4</th>\n",
       "      <th>pStage_5</th>\n",
       "      <th>pStage_6</th>\n",
       "    </tr>\n",
       "  </thead>\n",
       "  <tbody>\n",
       "    <tr>\n",
       "      <th>0</th>\n",
       "      <td>0</td>\n",
       "      <td>73</td>\n",
       "      <td>1.0</td>\n",
       "      <td>0.0</td>\n",
       "      <td>1</td>\n",
       "      <td>0</td>\n",
       "      <td>0</td>\n",
       "      <td>1</td>\n",
       "      <td>0</td>\n",
       "      <td>1</td>\n",
       "      <td>0</td>\n",
       "      <td>0</td>\n",
       "    </tr>\n",
       "    <tr>\n",
       "      <th>1</th>\n",
       "      <td>0</td>\n",
       "      <td>73</td>\n",
       "      <td>1.4</td>\n",
       "      <td>1.2</td>\n",
       "      <td>0</td>\n",
       "      <td>0</td>\n",
       "      <td>0</td>\n",
       "      <td>0</td>\n",
       "      <td>0</td>\n",
       "      <td>1</td>\n",
       "      <td>0</td>\n",
       "      <td>0</td>\n",
       "    </tr>\n",
       "    <tr>\n",
       "      <th>2</th>\n",
       "      <td>1</td>\n",
       "      <td>53</td>\n",
       "      <td>1.7</td>\n",
       "      <td>1.8</td>\n",
       "      <td>0</td>\n",
       "      <td>0</td>\n",
       "      <td>0</td>\n",
       "      <td>0</td>\n",
       "      <td>0</td>\n",
       "      <td>1</td>\n",
       "      <td>0</td>\n",
       "      <td>0</td>\n",
       "    </tr>\n",
       "    <tr>\n",
       "      <th>3</th>\n",
       "      <td>0</td>\n",
       "      <td>57</td>\n",
       "      <td>1.0</td>\n",
       "      <td>0.0</td>\n",
       "      <td>1</td>\n",
       "      <td>0</td>\n",
       "      <td>1</td>\n",
       "      <td>1</td>\n",
       "      <td>0</td>\n",
       "      <td>1</td>\n",
       "      <td>0</td>\n",
       "      <td>0</td>\n",
       "    </tr>\n",
       "    <tr>\n",
       "      <th>4</th>\n",
       "      <td>0</td>\n",
       "      <td>42</td>\n",
       "      <td>1.0</td>\n",
       "      <td>1.2</td>\n",
       "      <td>0</td>\n",
       "      <td>0</td>\n",
       "      <td>0</td>\n",
       "      <td>0</td>\n",
       "      <td>0</td>\n",
       "      <td>0</td>\n",
       "      <td>1</td>\n",
       "      <td>0</td>\n",
       "    </tr>\n",
       "    <tr>\n",
       "      <th>...</th>\n",
       "      <td>...</td>\n",
       "      <td>...</td>\n",
       "      <td>...</td>\n",
       "      <td>...</td>\n",
       "      <td>...</td>\n",
       "      <td>...</td>\n",
       "      <td>...</td>\n",
       "      <td>...</td>\n",
       "      <td>...</td>\n",
       "      <td>...</td>\n",
       "      <td>...</td>\n",
       "      <td>...</td>\n",
       "    </tr>\n",
       "    <tr>\n",
       "      <th>483</th>\n",
       "      <td>1</td>\n",
       "      <td>80</td>\n",
       "      <td>3.9</td>\n",
       "      <td>11.6</td>\n",
       "      <td>0</td>\n",
       "      <td>0</td>\n",
       "      <td>0</td>\n",
       "      <td>0</td>\n",
       "      <td>0</td>\n",
       "      <td>1</td>\n",
       "      <td>0</td>\n",
       "      <td>0</td>\n",
       "    </tr>\n",
       "    <tr>\n",
       "      <th>484</th>\n",
       "      <td>1</td>\n",
       "      <td>35</td>\n",
       "      <td>1.6</td>\n",
       "      <td>200.0</td>\n",
       "      <td>1</td>\n",
       "      <td>0</td>\n",
       "      <td>0</td>\n",
       "      <td>0</td>\n",
       "      <td>0</td>\n",
       "      <td>0</td>\n",
       "      <td>1</td>\n",
       "      <td>0</td>\n",
       "    </tr>\n",
       "    <tr>\n",
       "      <th>487</th>\n",
       "      <td>0</td>\n",
       "      <td>63</td>\n",
       "      <td>1.9</td>\n",
       "      <td>2.2</td>\n",
       "      <td>0</td>\n",
       "      <td>0</td>\n",
       "      <td>1</td>\n",
       "      <td>1</td>\n",
       "      <td>0</td>\n",
       "      <td>0</td>\n",
       "      <td>1</td>\n",
       "      <td>0</td>\n",
       "    </tr>\n",
       "    <tr>\n",
       "      <th>488</th>\n",
       "      <td>0</td>\n",
       "      <td>57</td>\n",
       "      <td>2.4</td>\n",
       "      <td>5.2</td>\n",
       "      <td>0</td>\n",
       "      <td>0</td>\n",
       "      <td>1</td>\n",
       "      <td>1</td>\n",
       "      <td>0</td>\n",
       "      <td>1</td>\n",
       "      <td>0</td>\n",
       "      <td>0</td>\n",
       "    </tr>\n",
       "    <tr>\n",
       "      <th>489</th>\n",
       "      <td>1</td>\n",
       "      <td>52</td>\n",
       "      <td>1.6</td>\n",
       "      <td>2.8</td>\n",
       "      <td>1</td>\n",
       "      <td>0</td>\n",
       "      <td>0</td>\n",
       "      <td>0</td>\n",
       "      <td>0</td>\n",
       "      <td>1</td>\n",
       "      <td>0</td>\n",
       "      <td>0</td>\n",
       "    </tr>\n",
       "  </tbody>\n",
       "</table>\n",
       "<p>427 rows × 12 columns</p>\n",
       "</div>"
      ],
      "text/plain": [
       "     Relapse  Age  CEA_pre  CEA_Post  Sex_2  COPD_1  DM_1  HTN_1  pStage_3  \\\n",
       "0          0   73      1.0       0.0      1       0     0      1         0   \n",
       "1          0   73      1.4       1.2      0       0     0      0         0   \n",
       "2          1   53      1.7       1.8      0       0     0      0         0   \n",
       "3          0   57      1.0       0.0      1       0     1      1         0   \n",
       "4          0   42      1.0       1.2      0       0     0      0         0   \n",
       "..       ...  ...      ...       ...    ...     ...   ...    ...       ...   \n",
       "483        1   80      3.9      11.6      0       0     0      0         0   \n",
       "484        1   35      1.6     200.0      1       0     0      0         0   \n",
       "487        0   63      1.9       2.2      0       0     1      1         0   \n",
       "488        0   57      2.4       5.2      0       0     1      1         0   \n",
       "489        1   52      1.6       2.8      1       0     0      0         0   \n",
       "\n",
       "     pStage_4  pStage_5  pStage_6  \n",
       "0           1         0         0  \n",
       "1           1         0         0  \n",
       "2           1         0         0  \n",
       "3           1         0         0  \n",
       "4           0         1         0  \n",
       "..        ...       ...       ...  \n",
       "483         1         0         0  \n",
       "484         0         1         0  \n",
       "487         0         1         0  \n",
       "488         1         0         0  \n",
       "489         1         0         0  \n",
       "\n",
       "[427 rows x 12 columns]"
      ]
     },
     "execution_count": 16,
     "metadata": {},
     "output_type": "execute_result"
    }
   ],
   "source": [
    "DummyData"
   ]
  },
  {
   "cell_type": "code",
   "execution_count": 17,
   "id": "92098636",
   "metadata": {},
   "outputs": [
    {
     "name": "stdout",
     "output_type": "stream",
     "text": [
      "Optimization terminated successfully.\n",
      "         Current function value: 0.677951\n",
      "         Iterations 4\n",
      "Optimization terminated successfully.\n",
      "         Current function value: 0.678190\n",
      "         Iterations 4\n",
      "Optimization terminated successfully.\n",
      "         Current function value: 0.654340\n",
      "         Iterations 8\n",
      "Optimization terminated successfully.\n",
      "         Current function value: 0.674967\n",
      "         Iterations 4\n",
      "Optimization terminated successfully.\n",
      "         Current function value: 0.678318\n",
      "         Iterations 4\n",
      "Optimization terminated successfully.\n",
      "         Current function value: 0.678113\n",
      "         Iterations 4\n",
      "Optimization terminated successfully.\n",
      "         Current function value: 0.675684\n",
      "         Iterations 4\n"
     ]
    }
   ],
   "source": [
    "Vari, Odds, Pval, Conf = [], [], [], []\n",
    "\n",
    "for Feature in DummyData.columns[1:8]:\n",
    "    InputFeature = DummyData[Feature]\n",
    "    InputFeature = sm.add_constant(InputFeature)\n",
    "    model = sm.Logit(DummyData['Relapse'], InputFeature).fit()\n",
    "    \n",
    "    Vari.append(Feature)\n",
    "    Odds.append(np.exp(model.params[1]))\n",
    "    Pval.append(model.pvalues[1])\n",
    "    Conf.append(np.exp(model.conf_int().loc[Feature].tolist()).round(3))"
   ]
  },
  {
   "cell_type": "code",
   "execution_count": 18,
   "id": "56321db6",
   "metadata": {},
   "outputs": [
    {
     "name": "stdout",
     "output_type": "stream",
     "text": [
      "Optimization terminated successfully.\n",
      "         Current function value: 0.663133\n",
      "         Iterations 5\n"
     ]
    }
   ],
   "source": [
    "InputFeature = DummyData[DummyData.columns[8:]]\n",
    "InputFeature = sm.add_constant(InputFeature)\n",
    "model = sm.Logit(DummyData['Relapse'], InputFeature).fit()"
   ]
  },
  {
   "cell_type": "code",
   "execution_count": 19,
   "id": "6968f4de",
   "metadata": {},
   "outputs": [
    {
     "data": {
      "text/html": [
       "<table class=\"simpletable\">\n",
       "<caption>Logit Regression Results</caption>\n",
       "<tr>\n",
       "  <th>Dep. Variable:</th>        <td>Relapse</td>     <th>  No. Observations:  </th>  <td>   427</td> \n",
       "</tr>\n",
       "<tr>\n",
       "  <th>Model:</th>                 <td>Logit</td>      <th>  Df Residuals:      </th>  <td>   422</td> \n",
       "</tr>\n",
       "<tr>\n",
       "  <th>Method:</th>                 <td>MLE</td>       <th>  Df Model:          </th>  <td>     4</td> \n",
       "</tr>\n",
       "<tr>\n",
       "  <th>Date:</th>            <td>Wed, 14 Sep 2022</td> <th>  Pseudo R-squ.:     </th>  <td>0.02259</td>\n",
       "</tr>\n",
       "<tr>\n",
       "  <th>Time:</th>                <td>16:16:28</td>     <th>  Log-Likelihood:    </th> <td> -283.16</td>\n",
       "</tr>\n",
       "<tr>\n",
       "  <th>converged:</th>             <td>True</td>       <th>  LL-Null:           </th> <td> -289.70</td>\n",
       "</tr>\n",
       "<tr>\n",
       "  <th>Covariance Type:</th>     <td>nonrobust</td>    <th>  LLR p-value:       </th>  <td>0.01084</td>\n",
       "</tr>\n",
       "</table>\n",
       "<table class=\"simpletable\">\n",
       "<tr>\n",
       "      <td></td>        <th>coef</th>     <th>std err</th>      <th>z</th>      <th>P>|z|</th>  <th>[0.025</th>    <th>0.975]</th>  \n",
       "</tr>\n",
       "<tr>\n",
       "  <th>const</th>    <td>   -0.8267</td> <td>    0.262</td> <td>   -3.160</td> <td> 0.002</td> <td>   -1.339</td> <td>   -0.314</td>\n",
       "</tr>\n",
       "<tr>\n",
       "  <th>pStage_3</th> <td>   -0.4951</td> <td>    0.621</td> <td>   -0.798</td> <td> 0.425</td> <td>   -1.711</td> <td>    0.721</td>\n",
       "</tr>\n",
       "<tr>\n",
       "  <th>pStage_4</th> <td>    0.4158</td> <td>    0.309</td> <td>    1.344</td> <td> 0.179</td> <td>   -0.191</td> <td>    1.022</td>\n",
       "</tr>\n",
       "<tr>\n",
       "  <th>pStage_5</th> <td>    0.6931</td> <td>    0.309</td> <td>    2.246</td> <td> 0.025</td> <td>    0.088</td> <td>    1.298</td>\n",
       "</tr>\n",
       "<tr>\n",
       "  <th>pStage_6</th> <td>    1.1632</td> <td>    0.427</td> <td>    2.721</td> <td> 0.007</td> <td>    0.325</td> <td>    2.001</td>\n",
       "</tr>\n",
       "</table>"
      ],
      "text/plain": [
       "<class 'statsmodels.iolib.summary.Summary'>\n",
       "\"\"\"\n",
       "                           Logit Regression Results                           \n",
       "==============================================================================\n",
       "Dep. Variable:                Relapse   No. Observations:                  427\n",
       "Model:                          Logit   Df Residuals:                      422\n",
       "Method:                           MLE   Df Model:                            4\n",
       "Date:                Wed, 14 Sep 2022   Pseudo R-squ.:                 0.02259\n",
       "Time:                        16:16:28   Log-Likelihood:                -283.16\n",
       "converged:                       True   LL-Null:                       -289.70\n",
       "Covariance Type:            nonrobust   LLR p-value:                   0.01084\n",
       "==============================================================================\n",
       "                 coef    std err          z      P>|z|      [0.025      0.975]\n",
       "------------------------------------------------------------------------------\n",
       "const         -0.8267      0.262     -3.160      0.002      -1.339      -0.314\n",
       "pStage_3      -0.4951      0.621     -0.798      0.425      -1.711       0.721\n",
       "pStage_4       0.4158      0.309      1.344      0.179      -0.191       1.022\n",
       "pStage_5       0.6931      0.309      2.246      0.025       0.088       1.298\n",
       "pStage_6       1.1632      0.427      2.721      0.007       0.325       2.001\n",
       "==============================================================================\n",
       "\"\"\""
      ]
     },
     "execution_count": 19,
     "metadata": {},
     "output_type": "execute_result"
    }
   ],
   "source": [
    "model.summary()"
   ]
  },
  {
   "cell_type": "code",
   "execution_count": 20,
   "id": "c570900c",
   "metadata": {},
   "outputs": [
    {
     "data": {
      "text/plain": [
       "const      -0.826679\n",
       "pStage_3   -0.495077\n",
       "pStage_4    0.415764\n",
       "pStage_5    0.693147\n",
       "pStage_6    1.163151\n",
       "dtype: float64"
      ]
     },
     "execution_count": 20,
     "metadata": {},
     "output_type": "execute_result"
    }
   ],
   "source": [
    "model.params"
   ]
  },
  {
   "cell_type": "code",
   "execution_count": 21,
   "id": "0d19e334",
   "metadata": {},
   "outputs": [],
   "source": [
    "Vari = Vari + DummyData.columns[8:].tolist()\n",
    "Odds = Odds + model.params[1:].tolist()\n",
    "Pval = Pval + model.pvalues[1:].tolist()\n",
    "for idx in range(4):\n",
    "    Conf.append(np.exp(model.conf_int().loc[DummyData.columns[8:]].iloc[idx].tolist()).round(3))"
   ]
  },
  {
   "cell_type": "code",
   "execution_count": 22,
   "id": "16995d33",
   "metadata": {},
   "outputs": [],
   "source": [
    "Conf = ['-'.join(map(str, IDX)) for IDX in Conf]"
   ]
  },
  {
   "cell_type": "code",
   "execution_count": 23,
   "id": "f0a4344c",
   "metadata": {},
   "outputs": [
    {
     "data": {
      "text/html": [
       "<div>\n",
       "<style scoped>\n",
       "    .dataframe tbody tr th:only-of-type {\n",
       "        vertical-align: middle;\n",
       "    }\n",
       "\n",
       "    .dataframe tbody tr th {\n",
       "        vertical-align: top;\n",
       "    }\n",
       "\n",
       "    .dataframe thead th {\n",
       "        text-align: right;\n",
       "    }\n",
       "</style>\n",
       "<table border=\"1\" class=\"dataframe\">\n",
       "  <thead>\n",
       "    <tr style=\"text-align: right;\">\n",
       "      <th></th>\n",
       "      <th>Variable</th>\n",
       "      <th>OddsRatio</th>\n",
       "      <th>CI</th>\n",
       "      <th>Pvalue</th>\n",
       "    </tr>\n",
       "  </thead>\n",
       "  <tbody>\n",
       "    <tr>\n",
       "      <th>0</th>\n",
       "      <td>Age</td>\n",
       "      <td>0.993492</td>\n",
       "      <td>0.974-1.013</td>\n",
       "      <td>0.508969</td>\n",
       "    </tr>\n",
       "    <tr>\n",
       "      <th>1</th>\n",
       "      <td>CEA_pre</td>\n",
       "      <td>1.003250</td>\n",
       "      <td>0.99-1.017</td>\n",
       "      <td>0.629952</td>\n",
       "    </tr>\n",
       "    <tr>\n",
       "      <th>2</th>\n",
       "      <td>CEA_Post</td>\n",
       "      <td>1.028555</td>\n",
       "      <td>1.007-1.051</td>\n",
       "      <td>0.009271</td>\n",
       "    </tr>\n",
       "    <tr>\n",
       "      <th>3</th>\n",
       "      <td>Sex_2</td>\n",
       "      <td>1.419787</td>\n",
       "      <td>0.954-2.113</td>\n",
       "      <td>0.084015</td>\n",
       "    </tr>\n",
       "    <tr>\n",
       "      <th>4</th>\n",
       "      <td>COPD_1</td>\n",
       "      <td>0.802642</td>\n",
       "      <td>0.231-2.784</td>\n",
       "      <td>0.729029</td>\n",
       "    </tr>\n",
       "    <tr>\n",
       "      <th>5</th>\n",
       "      <td>DM_1</td>\n",
       "      <td>1.139259</td>\n",
       "      <td>0.714-1.819</td>\n",
       "      <td>0.584779</td>\n",
       "    </tr>\n",
       "    <tr>\n",
       "      <th>6</th>\n",
       "      <td>HTN_1</td>\n",
       "      <td>0.732404</td>\n",
       "      <td>0.492-1.09</td>\n",
       "      <td>0.124976</td>\n",
       "    </tr>\n",
       "    <tr>\n",
       "      <th>7</th>\n",
       "      <td>pStage_3</td>\n",
       "      <td>-0.495077</td>\n",
       "      <td>0.181-2.057</td>\n",
       "      <td>0.425006</td>\n",
       "    </tr>\n",
       "    <tr>\n",
       "      <th>8</th>\n",
       "      <td>pStage_4</td>\n",
       "      <td>0.415764</td>\n",
       "      <td>0.826-2.779</td>\n",
       "      <td>0.178992</td>\n",
       "    </tr>\n",
       "    <tr>\n",
       "      <th>9</th>\n",
       "      <td>pStage_5</td>\n",
       "      <td>0.693147</td>\n",
       "      <td>1.092-3.662</td>\n",
       "      <td>0.024701</td>\n",
       "    </tr>\n",
       "    <tr>\n",
       "      <th>10</th>\n",
       "      <td>pStage_6</td>\n",
       "      <td>1.163151</td>\n",
       "      <td>1.384-7.396</td>\n",
       "      <td>0.006509</td>\n",
       "    </tr>\n",
       "  </tbody>\n",
       "</table>\n",
       "</div>"
      ],
      "text/plain": [
       "    Variable  OddsRatio           CI    Pvalue\n",
       "0        Age   0.993492  0.974-1.013  0.508969\n",
       "1    CEA_pre   1.003250   0.99-1.017  0.629952\n",
       "2   CEA_Post   1.028555  1.007-1.051  0.009271\n",
       "3      Sex_2   1.419787  0.954-2.113  0.084015\n",
       "4     COPD_1   0.802642  0.231-2.784  0.729029\n",
       "5       DM_1   1.139259  0.714-1.819  0.584779\n",
       "6      HTN_1   0.732404   0.492-1.09  0.124976\n",
       "7   pStage_3  -0.495077  0.181-2.057  0.425006\n",
       "8   pStage_4   0.415764  0.826-2.779  0.178992\n",
       "9   pStage_5   0.693147  1.092-3.662  0.024701\n",
       "10  pStage_6   1.163151  1.384-7.396  0.006509"
      ]
     },
     "execution_count": 23,
     "metadata": {},
     "output_type": "execute_result"
    }
   ],
   "source": [
    "pd.DataFrame({\n",
    "    'Variable': Vari,\n",
    "    'OddsRatio': Odds,\n",
    "    'CI':Conf,\n",
    "    'Pvalue':Pval\n",
    "})"
   ]
  },
  {
   "cell_type": "code",
   "execution_count": 24,
   "id": "3fab76ff",
   "metadata": {},
   "outputs": [
    {
     "name": "stdout",
     "output_type": "stream",
     "text": [
      "Optimization terminated successfully.\n",
      "         Current function value: 0.634669\n",
      "         Iterations 8\n"
     ]
    }
   ],
   "source": [
    "DummyData\n",
    "InputFeature = DummyData.drop(['Relapse'], axis=1)\n",
    "InputFeature = sm.add_constant(InputFeature)\n",
    "model = sm.Logit(DummyData['Relapse'], InputFeature).fit()"
   ]
  },
  {
   "cell_type": "code",
   "execution_count": 25,
   "id": "991746d6",
   "metadata": {},
   "outputs": [
    {
     "data": {
      "text/html": [
       "<table class=\"simpletable\">\n",
       "<caption>Logit Regression Results</caption>\n",
       "<tr>\n",
       "  <th>Dep. Variable:</th>        <td>Relapse</td>     <th>  No. Observations:  </th>  <td>   427</td>  \n",
       "</tr>\n",
       "<tr>\n",
       "  <th>Model:</th>                 <td>Logit</td>      <th>  Df Residuals:      </th>  <td>   415</td>  \n",
       "</tr>\n",
       "<tr>\n",
       "  <th>Method:</th>                 <td>MLE</td>       <th>  Df Model:          </th>  <td>    11</td>  \n",
       "</tr>\n",
       "<tr>\n",
       "  <th>Date:</th>            <td>Wed, 14 Sep 2022</td> <th>  Pseudo R-squ.:     </th>  <td>0.06455</td> \n",
       "</tr>\n",
       "<tr>\n",
       "  <th>Time:</th>                <td>16:16:28</td>     <th>  Log-Likelihood:    </th> <td> -271.00</td> \n",
       "</tr>\n",
       "<tr>\n",
       "  <th>converged:</th>             <td>True</td>       <th>  LL-Null:           </th> <td> -289.70</td> \n",
       "</tr>\n",
       "<tr>\n",
       "  <th>Covariance Type:</th>     <td>nonrobust</td>    <th>  LLR p-value:       </th> <td>9.879e-05</td>\n",
       "</tr>\n",
       "</table>\n",
       "<table class=\"simpletable\">\n",
       "<tr>\n",
       "      <td></td>        <th>coef</th>     <th>std err</th>      <th>z</th>      <th>P>|z|</th>  <th>[0.025</th>    <th>0.975]</th>  \n",
       "</tr>\n",
       "<tr>\n",
       "  <th>const</th>    <td>   -0.7891</td> <td>    0.724</td> <td>   -1.091</td> <td> 0.275</td> <td>   -2.207</td> <td>    0.629</td>\n",
       "</tr>\n",
       "<tr>\n",
       "  <th>Age</th>      <td>   -0.0029</td> <td>    0.011</td> <td>   -0.259</td> <td> 0.795</td> <td>   -0.025</td> <td>    0.019</td>\n",
       "</tr>\n",
       "<tr>\n",
       "  <th>CEA_pre</th>  <td>   -0.0021</td> <td>    0.008</td> <td>   -0.271</td> <td> 0.786</td> <td>   -0.017</td> <td>    0.013</td>\n",
       "</tr>\n",
       "<tr>\n",
       "  <th>CEA_Post</th> <td>    0.0239</td> <td>    0.011</td> <td>    2.252</td> <td> 0.024</td> <td>    0.003</td> <td>    0.045</td>\n",
       "</tr>\n",
       "<tr>\n",
       "  <th>Sex_2</th>    <td>    0.3742</td> <td>    0.219</td> <td>    1.708</td> <td> 0.088</td> <td>   -0.055</td> <td>    0.804</td>\n",
       "</tr>\n",
       "<tr>\n",
       "  <th>COPD_1</th>   <td>   -0.4897</td> <td>    0.712</td> <td>   -0.688</td> <td> 0.492</td> <td>   -1.886</td> <td>    0.906</td>\n",
       "</tr>\n",
       "<tr>\n",
       "  <th>DM_1</th>     <td>    0.3578</td> <td>    0.271</td> <td>    1.322</td> <td> 0.186</td> <td>   -0.173</td> <td>    0.888</td>\n",
       "</tr>\n",
       "<tr>\n",
       "  <th>HTN_1</th>    <td>   -0.4364</td> <td>    0.235</td> <td>   -1.854</td> <td> 0.064</td> <td>   -0.898</td> <td>    0.025</td>\n",
       "</tr>\n",
       "<tr>\n",
       "  <th>pStage_3</th> <td>   -0.5393</td> <td>    0.639</td> <td>   -0.844</td> <td> 0.398</td> <td>   -1.791</td> <td>    0.712</td>\n",
       "</tr>\n",
       "<tr>\n",
       "  <th>pStage_4</th> <td>    0.4313</td> <td>    0.317</td> <td>    1.359</td> <td> 0.174</td> <td>   -0.191</td> <td>    1.053</td>\n",
       "</tr>\n",
       "<tr>\n",
       "  <th>pStage_5</th> <td>    0.5877</td> <td>    0.323</td> <td>    1.818</td> <td> 0.069</td> <td>   -0.046</td> <td>    1.221</td>\n",
       "</tr>\n",
       "<tr>\n",
       "  <th>pStage_6</th> <td>    1.1230</td> <td>    0.449</td> <td>    2.499</td> <td> 0.012</td> <td>    0.242</td> <td>    2.004</td>\n",
       "</tr>\n",
       "</table>"
      ],
      "text/plain": [
       "<class 'statsmodels.iolib.summary.Summary'>\n",
       "\"\"\"\n",
       "                           Logit Regression Results                           \n",
       "==============================================================================\n",
       "Dep. Variable:                Relapse   No. Observations:                  427\n",
       "Model:                          Logit   Df Residuals:                      415\n",
       "Method:                           MLE   Df Model:                           11\n",
       "Date:                Wed, 14 Sep 2022   Pseudo R-squ.:                 0.06455\n",
       "Time:                        16:16:28   Log-Likelihood:                -271.00\n",
       "converged:                       True   LL-Null:                       -289.70\n",
       "Covariance Type:            nonrobust   LLR p-value:                 9.879e-05\n",
       "==============================================================================\n",
       "                 coef    std err          z      P>|z|      [0.025      0.975]\n",
       "------------------------------------------------------------------------------\n",
       "const         -0.7891      0.724     -1.091      0.275      -2.207       0.629\n",
       "Age           -0.0029      0.011     -0.259      0.795      -0.025       0.019\n",
       "CEA_pre       -0.0021      0.008     -0.271      0.786      -0.017       0.013\n",
       "CEA_Post       0.0239      0.011      2.252      0.024       0.003       0.045\n",
       "Sex_2          0.3742      0.219      1.708      0.088      -0.055       0.804\n",
       "COPD_1        -0.4897      0.712     -0.688      0.492      -1.886       0.906\n",
       "DM_1           0.3578      0.271      1.322      0.186      -0.173       0.888\n",
       "HTN_1         -0.4364      0.235     -1.854      0.064      -0.898       0.025\n",
       "pStage_3      -0.5393      0.639     -0.844      0.398      -1.791       0.712\n",
       "pStage_4       0.4313      0.317      1.359      0.174      -0.191       1.053\n",
       "pStage_5       0.5877      0.323      1.818      0.069      -0.046       1.221\n",
       "pStage_6       1.1230      0.449      2.499      0.012       0.242       2.004\n",
       "==============================================================================\n",
       "\"\"\""
      ]
     },
     "execution_count": 25,
     "metadata": {},
     "output_type": "execute_result"
    }
   ],
   "source": [
    "model.summary()"
   ]
  },
  {
   "cell_type": "code",
   "execution_count": 26,
   "id": "5a00c1a6",
   "metadata": {},
   "outputs": [
    {
     "data": {
      "text/html": [
       "<style>#sk-container-id-1 {color: black;background-color: white;}#sk-container-id-1 pre{padding: 0;}#sk-container-id-1 div.sk-toggleable {background-color: white;}#sk-container-id-1 label.sk-toggleable__label {cursor: pointer;display: block;width: 100%;margin-bottom: 0;padding: 0.3em;box-sizing: border-box;text-align: center;}#sk-container-id-1 label.sk-toggleable__label-arrow:before {content: \"▸\";float: left;margin-right: 0.25em;color: #696969;}#sk-container-id-1 label.sk-toggleable__label-arrow:hover:before {color: black;}#sk-container-id-1 div.sk-estimator:hover label.sk-toggleable__label-arrow:before {color: black;}#sk-container-id-1 div.sk-toggleable__content {max-height: 0;max-width: 0;overflow: hidden;text-align: left;background-color: #f0f8ff;}#sk-container-id-1 div.sk-toggleable__content pre {margin: 0.2em;color: black;border-radius: 0.25em;background-color: #f0f8ff;}#sk-container-id-1 input.sk-toggleable__control:checked~div.sk-toggleable__content {max-height: 200px;max-width: 100%;overflow: auto;}#sk-container-id-1 input.sk-toggleable__control:checked~label.sk-toggleable__label-arrow:before {content: \"▾\";}#sk-container-id-1 div.sk-estimator input.sk-toggleable__control:checked~label.sk-toggleable__label {background-color: #d4ebff;}#sk-container-id-1 div.sk-label input.sk-toggleable__control:checked~label.sk-toggleable__label {background-color: #d4ebff;}#sk-container-id-1 input.sk-hidden--visually {border: 0;clip: rect(1px 1px 1px 1px);clip: rect(1px, 1px, 1px, 1px);height: 1px;margin: -1px;overflow: hidden;padding: 0;position: absolute;width: 1px;}#sk-container-id-1 div.sk-estimator {font-family: monospace;background-color: #f0f8ff;border: 1px dotted black;border-radius: 0.25em;box-sizing: border-box;margin-bottom: 0.5em;}#sk-container-id-1 div.sk-estimator:hover {background-color: #d4ebff;}#sk-container-id-1 div.sk-parallel-item::after {content: \"\";width: 100%;border-bottom: 1px solid gray;flex-grow: 1;}#sk-container-id-1 div.sk-label:hover label.sk-toggleable__label {background-color: #d4ebff;}#sk-container-id-1 div.sk-serial::before {content: \"\";position: absolute;border-left: 1px solid gray;box-sizing: border-box;top: 0;bottom: 0;left: 50%;z-index: 0;}#sk-container-id-1 div.sk-serial {display: flex;flex-direction: column;align-items: center;background-color: white;padding-right: 0.2em;padding-left: 0.2em;position: relative;}#sk-container-id-1 div.sk-item {position: relative;z-index: 1;}#sk-container-id-1 div.sk-parallel {display: flex;align-items: stretch;justify-content: center;background-color: white;position: relative;}#sk-container-id-1 div.sk-item::before, #sk-container-id-1 div.sk-parallel-item::before {content: \"\";position: absolute;border-left: 1px solid gray;box-sizing: border-box;top: 0;bottom: 0;left: 50%;z-index: -1;}#sk-container-id-1 div.sk-parallel-item {display: flex;flex-direction: column;z-index: 1;position: relative;background-color: white;}#sk-container-id-1 div.sk-parallel-item:first-child::after {align-self: flex-end;width: 50%;}#sk-container-id-1 div.sk-parallel-item:last-child::after {align-self: flex-start;width: 50%;}#sk-container-id-1 div.sk-parallel-item:only-child::after {width: 0;}#sk-container-id-1 div.sk-dashed-wrapped {border: 1px dashed gray;margin: 0 0.4em 0.5em 0.4em;box-sizing: border-box;padding-bottom: 0.4em;background-color: white;}#sk-container-id-1 div.sk-label label {font-family: monospace;font-weight: bold;display: inline-block;line-height: 1.2em;}#sk-container-id-1 div.sk-label-container {text-align: center;}#sk-container-id-1 div.sk-container {/* jupyter's `normalize.less` sets `[hidden] { display: none; }` but bootstrap.min.css set `[hidden] { display: none !important; }` so we also need the `!important` here to be able to override the default hidden behavior on the sphinx rendered scikit-learn.org. See: https://github.com/scikit-learn/scikit-learn/issues/21755 */display: inline-block !important;position: relative;}#sk-container-id-1 div.sk-text-repr-fallback {display: none;}</style><div id=\"sk-container-id-1\" class=\"sk-top-container\"><div class=\"sk-text-repr-fallback\"><pre>RandomForestClassifier(random_state=0)</pre><b>In a Jupyter environment, please rerun this cell to show the HTML representation or trust the notebook. <br />On GitHub, the HTML representation is unable to render, please try loading this page with nbviewer.org.</b></div><div class=\"sk-container\" hidden><div class=\"sk-item\"><div class=\"sk-estimator sk-toggleable\"><input class=\"sk-toggleable__control sk-hidden--visually\" id=\"sk-estimator-id-1\" type=\"checkbox\" checked><label for=\"sk-estimator-id-1\" class=\"sk-toggleable__label sk-toggleable__label-arrow\">RandomForestClassifier</label><div class=\"sk-toggleable__content\"><pre>RandomForestClassifier(random_state=0)</pre></div></div></div></div></div>"
      ],
      "text/plain": [
       "RandomForestClassifier(random_state=0)"
      ]
     },
     "execution_count": 26,
     "metadata": {},
     "output_type": "execute_result"
    }
   ],
   "source": [
    "from sklearn.datasets import make_classification\n",
    "from sklearn.model_selection import train_test_split\n",
    "from sklearn.ensemble import RandomForestClassifier\n",
    "\n",
    "forest = RandomForestClassifier(random_state=0)\n",
    "X_train = DummyData.drop(['Relapse'], axis=1)\n",
    "Y_train = DummyData['Relapse']\n",
    "\n",
    "forest.fit(X_train, Y_train)"
   ]
  },
  {
   "cell_type": "code",
   "execution_count": 27,
   "id": "667a5337",
   "metadata": {},
   "outputs": [],
   "source": [
    "feature_names = X_train.columns\n",
    "importances = forest.feature_importances_\n",
    "std = np.std([tree.feature_importances_ for tree in forest.estimators_], axis=0)"
   ]
  },
  {
   "cell_type": "code",
   "execution_count": 28,
   "id": "754383eb",
   "metadata": {},
   "outputs": [],
   "source": [
    "import matplotlib.pyplot as plt"
   ]
  },
  {
   "cell_type": "code",
   "execution_count": 29,
   "id": "7c4486b9",
   "metadata": {},
   "outputs": [
    {
     "data": {
      "image/png": "[encoded data removed]",
      "text/plain": [
       "<Figure size 640x480 with 1 Axes>"
      ]
     },
     "metadata": {},
     "output_type": "display_data"
    }
   ],
   "source": [
    "forest_importances = pd.Series(importances, index=feature_names)\n",
    "\n",
    "fig, ax = plt.subplots()\n",
    "forest_importances.plot.bar(yerr=std, ax=ax)\n",
    "ax.set_title(\"Feature importances using MDI\")\n",
    "ax.set_ylabel(\"Mean decrease in impurity\")\n",
    "fig.tight_layout()"
   ]
  }
 ],
 "metadata": {
  "kernelspec": {
   "display_name": "Python 3 (ipykernel)",
   "language": "python",
   "name": "python3"
  },
  "language_info": {
   "codemirror_mode": {
    "name": "ipython",
    "version": 3
   },
   "file_extension": ".py",
   "mimetype": "text/x-python",
   "name": "python",
   "nbconvert_exporter": "python",
   "pygments_lexer": "ipython3",
   "version": "3.8.13"
  }
 },
 "nbformat": 4,
 "nbformat_minor": 5
}
